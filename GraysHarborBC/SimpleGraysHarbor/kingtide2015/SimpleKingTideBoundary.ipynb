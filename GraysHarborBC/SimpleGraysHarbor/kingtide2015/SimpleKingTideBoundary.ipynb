{
 "cells": [
  {
   "cell_type": "markdown",
   "metadata": {},
   "source": [
    "Timeshift 3220s\n",
    "\n",
    "Signal should increase by ratio 1.04"
   ]
  },
  {
   "cell_type": "code",
   "execution_count": null,
   "metadata": {},
   "outputs": [],
   "source": [
    "%pylab inline\n",
    "import datetime\n",
    "from scipy.interpolate import interp1d\n",
    "from clawpack.geoclaw import util\n",
    "import clawpack.pyclaw.gauges as gauges"
   ]
  },
  {
   "cell_type": "markdown",
   "metadata": {},
   "source": [
    "## Download tide gauge data for Westport and Aberdeen"
   ]
  },
  {
   "cell_type": "code",
   "execution_count": null,
   "metadata": {},
   "outputs": [],
   "source": [
    "station_westport = '9441102'\n",
    "MLW_westport = -1.068 # m relative to MTL\n",
    "MHW_westport = 1.068  # m relative to MTL\n",
    "\n",
    "station_aberdeen = '9441187'\n",
    "MLW_aberdeen = -1.21  # m relative to MTL\n",
    "MHW_aberdeen = 1.21  # m relative to MTL\n",
    "\n",
    "begin_date = datetime.datetime(2015,12,21)\n",
    "end_date = datetime.datetime(2015,12,26)\n",
    "time_zone = 'GMT'\n",
    "datum = 'MTL'\n",
    "units = 'metric'\n",
    "cache_dir = '.'\n",
    "\n",
    "time_westport, eta_westport, etap_westport = \\\n",
    "    util.fetch_noaa_tide_data(station_westport, begin_date, end_date,\n",
    "                              time_zone, datum, units, cache_dir)\n",
    "\n",
    "time_aberdeen, eta_aberdeen, etap_aberdeen = \\\n",
    "    util.fetch_noaa_tide_data(station_aberdeen, begin_date, end_date,\n",
    "                              time_zone, datum, units, cache_dir)"
   ]
  },
  {
   "cell_type": "code",
   "execution_count": null,
   "metadata": {},
   "outputs": [],
   "source": [
    "figure(figsize=(13,6))\n",
    "plot(time_westport, etap_westport, 'b', label='Westport %s' % station_westport)\n",
    "plot(time_westport, MHW_westport*ones(time_westport.shape),'b--', label=\"MLW/MHW Westport\")\n",
    "plot(time_westport, MLW_westport*ones(time_westport.shape),'b--')\n",
    "\n",
    "plot(time_aberdeen, etap_aberdeen, 'r', label='Aberdeen %s' % station_aberdeen)\n",
    "plot(time_aberdeen, MHW_aberdeen*ones(time_aberdeen.shape),'r--', label=\"MLW/MHW Aberdeen\")\n",
    "plot(time_aberdeen, MLW_aberdeen*ones(time_aberdeen.shape),'r--')\n",
    "\n",
    "grid(True)\n",
    "xticks(rotation=20)\n",
    "legend()\n",
    "title('NOAA predicted tides in Grays Harbor')\n",
    "ylabel('meters relative to %s' % datum);"
   ]
  },
  {
   "cell_type": "markdown",
   "metadata": {},
   "source": [
    "### Convert datetimes to elapsed seconds"
   ]
  },
  {
   "cell_type": "code",
   "execution_count": null,
   "metadata": {},
   "outputs": [],
   "source": [
    "# convert to elapsed seconds:\n",
    "dt_westport = time_westport - time_westport[0]\n",
    "t_westport = array([dt.item().total_seconds() for dt in dt_westport])\n",
    "\n",
    "dt_aberdeen = time_aberdeen - time_aberdeen[0]\n",
    "t_aberdeen = array([dt.item().total_seconds() for dt in dt_aberdeen])"
   ]
  },
  {
   "cell_type": "code",
   "execution_count": null,
   "metadata": {},
   "outputs": [],
   "source": [
    "figure(figsize=(13,6))\n",
    "plot(t_westport, etap_westport, 'b', label='Westport %s' % station_westport)\n",
    "plot(t_aberdeen, etap_aberdeen, 'r', label='Aberdeen %s' % station_aberdeen)\n",
    "\n",
    "\n",
    "grid(True)\n",
    "xticks(rotation=20)\n",
    "xlabel('seconds')\n",
    "legend()\n",
    "title('NOAA predicted tides in Grays Harbor')\n",
    "ylabel('meters relative to %s' % datum);"
   ]
  },
  {
   "cell_type": "code",
   "execution_count": null,
   "metadata": {},
   "outputs": [],
   "source": [
    "#export data used for graphing\n",
    "t = t_westport - 3220\n",
    "eta = etap_westport * 1.04\n",
    "\n",
    "fname = 'tidedata_dec2015.txt'\n",
    "d = vstack((t, eta)).T\n",
    "mt = d.shape[0]\n",
    "header = '%i  # mt' % mt\n",
    "savetxt(fname, d, header=header, comments='')\n",
    "print('Created ',fname)"
   ]
  },
  {
   "cell_type": "markdown",
   "metadata": {},
   "source": [
    "### Linear interpolate the tidal signal\n",
    "We use the signal at Westport to derive our left boundary condition,  \n",
    "\n",
    "#### etap_westport is exported as height.txt below, CREATE AND MOVE IT TO ./_output directory. "
   ]
  },
  {
   "cell_type": "code",
   "execution_count": null,
   "metadata": {},
   "outputs": [],
   "source": [
    "numpy.savetxt(\"height.txt\", etap_westport, fmt=\"%s\")"
   ]
  },
  {
   "cell_type": "markdown",
   "metadata": {},
   "source": [
    "Since the data is discrete, we do linear interpolation to make the signal continuous. Note that we need to shift the signal by 3352 seconds and increase it's magnitude by 1.17. It's implemented in bc2amr.f90 and the signal look like the graph below. "
   ]
  },
  {
   "cell_type": "code",
   "execution_count": null,
   "metadata": {},
   "outputs": [],
   "source": [
    "from scipy.interpolate import interp1d\n",
    "f = interp1d(t_westport -3220, etap_westport)\n",
    "x = np.linspace(0, 400000, num=100000, endpoint=True)\n",
    "plt.plot(x, 1.04*f(x))\n",
    "xlabel('seconds')\n",
    "ylabel('meters relative to %s' % datum);\n",
    "title('Continuous Tidal Signal')\n",
    "plt.show()\n",
    "print(\"Ocean level at time 0 =\",f(0))"
   ]
  },
  {
   "cell_type": "markdown",
   "metadata": {},
   "source": [
    "## Plot GeoClaw results"
   ]
  },
  {
   "cell_type": "code",
   "execution_count": null,
   "metadata": {
    "scrolled": false
   },
   "outputs": [],
   "source": [
    "import numpy\n",
    "\n",
    "outdir = '_output'\n",
    "\n",
    "figure(figsize=(13,5))\n",
    "colors = ['b','r','m','g']\n",
    "\n",
    "for k,gaugeno in enumerate([1102,1187]):\n",
    "    gauge = gauges.GaugeSolution(gaugeno, outdir)\n",
    "    t = gauge.t / 3600.   # convert to hours\n",
    "    q = gauge.q\n",
    "    eta = q[3,:]\n",
    "    if gaugeno==1102:\n",
    "        plot(t, eta, colors[k], label='GeoClaw 1102 - Westport')\n",
    "\n",
    "    elif gaugeno==1187:\n",
    "        plot(t, eta, colors[k], label='GeoClaw 1187 - Aberdeen')\n",
    "        \n",
    "    else:\n",
    "        plot(t, eta, colors[k], label='GeoClaw Gauge %s' % gaugeno)\n",
    "     \n",
    "    \n",
    "plot(t_westport/3600., etap_westport, 'c', label='NOAA 1102 - Westport')\n",
    "plot(t_aberdeen/3600., etap_aberdeen, 'm', label='NOAA 1187 - Aberdeen')\n",
    "\n",
    "\n",
    "xlim(0,72)\n",
    "ylim(-2.5,2.5)\n",
    "legend(loc='upper left', fontsize=8)\n",
    "xlabel('hours')\n",
    "ylabel('Surface relative to MTL (m)')\n",
    "title('Grays Harbor tides (simple), Dec. 21-23, 2015')\n",
    "grid(True)\n",
    "\n"
   ]
  },
  {
   "cell_type": "code",
   "execution_count": null,
   "metadata": {},
   "outputs": [],
   "source": [
    "#Show error, export error\n",
    "\n",
    "def find_nearest(array, value):\n",
    "    array = numpy.asarray(array)\n",
    "    idx = (numpy.abs(array - value)).argmin()\n",
    "    return idx\n",
    "\n",
    "from operator import sub\n",
    "outdir = '_output'\n",
    "\n",
    "figure(figsize=(13,5))\n",
    "colors = ['b','r','m','g']\n",
    "\n",
    "for k,gaugeno in enumerate([1102,1187]):\n",
    "    gauge = gauges.GaugeSolution(gaugeno, outdir)\n",
    "    t = gauge.t / 3600.   # convert to hours\n",
    "    q = gauge.q\n",
    "    eta = q[3,:]\n",
    "    \n",
    "    if gaugeno==1102:\n",
    "        i = 0\n",
    "        x_select = []\n",
    "        t_select = []\n",
    "\n",
    "        while i < 720:           \n",
    "            x_select.append(eta[find_nearest(t, i/10)]) \n",
    "            t_select.append(t[find_nearest(t, i/10)])\n",
    "            \n",
    "            i += 1  \n",
    "        plot(t_westport[0:720]/3600, list( map(sub, etap_westport[0:720],  x_select) ), \n",
    "             colors[k], label='1102, NOAA minus GeoClaw')        \n",
    "\n",
    "        numpy.savetxt(\"simple1102\", \n",
    "           list( map(sub, etap_westport[0:720],  x_select) ),\n",
    "           delimiter =\", \", \n",
    "           fmt ='% s')        \n",
    "        \n",
    "        \n",
    "        \n",
    "    elif gaugeno==1187:\n",
    "        i = 0\n",
    "        x_select = []\n",
    "        t_select = []\n",
    "        while i < 720:           \n",
    "            x_select.append(eta[find_nearest(t, i/10)]) \n",
    "            t_select.append(t[find_nearest(t, i/10)])\n",
    "            \n",
    "            i += 1  \n",
    "        plot(t_westport[0:720]/3600, list( map(sub, etap_aberdeen[0:720],  x_select) ), \n",
    "             colors[k], label='1187, NOAA minus GeoClaw')            \n",
    "        \n",
    "        numpy.savetxt(\"simple1187\", \n",
    "           list( map(sub, etap_aberdeen[0:720],  x_select) ),\n",
    "           delimiter =\", \", \n",
    "           fmt ='% s')            \n",
    "    \n",
    "    \n",
    "xlim(0,72)\n",
    "ylim(-2.5,2.5)\n",
    "legend(loc='upper left', fontsize=8)\n",
    "xlabel('hours')\n",
    "ylabel('m')\n",
    "title('Grays Harbor Difference, Dec. 21-23, 2015')\n",
    "grid(True)\n"
   ]
  }
 ],
 "metadata": {
  "kernelspec": {
   "display_name": "Python 3",
   "language": "python",
   "name": "python3"
  },
  "language_info": {
   "codemirror_mode": {
    "name": "ipython",
    "version": 3
   },
   "file_extension": ".py",
   "mimetype": "text/x-python",
   "name": "python",
   "nbconvert_exporter": "python",
   "pygments_lexer": "ipython3",
   "version": "3.8.5"
  }
 },
 "nbformat": 4,
 "nbformat_minor": 4
}
